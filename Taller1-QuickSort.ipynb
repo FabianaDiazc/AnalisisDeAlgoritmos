{
 "cells": [
  {
   "cell_type": "markdown",
   "metadata": {},
   "source": [
    "# Quick Sort"
   ]
  },
  {
   "cell_type": "code",
   "execution_count": 1,
   "metadata": {
    "collapsed": false
   },
   "outputs": [],
   "source": [
    "import math\n",
    "import numpy as np\n",
    "import pylab as pl\n",
    "import random as rnd\n",
    "import time\n",
    "%matplotlib inline"
   ]
  },
  {
   "cell_type": "code",
   "execution_count": 2,
   "metadata": {
    "collapsed": true
   },
   "outputs": [],
   "source": [
    "def quicksort(L, first, last):\n",
    "    i = first\n",
    "    j = last    \n",
    "    pivote = (L[i] + L[j]) / 2\n",
    "    while i < j:\n",
    "        while L[i] < pivote:\n",
    "            i+=1\n",
    "        while L[j] > pivote:\n",
    "            j-=1\n",
    "        if i <= j:\n",
    "            x = L[j]\n",
    "            L[j] = L[i]\n",
    "            L[i] = x\n",
    "            i+=1\n",
    "            j-=1\n",
    "    if first < j:\n",
    "        L = quicksort(L, first, j)\n",
    "    if last > i:\n",
    "        L = quicksort(L, i, last)\n",
    "    return L"
   ]
  },
  {
   "cell_type": "code",
   "execution_count": 3,
   "metadata": {
    "collapsed": false
   },
   "outputs": [
    {
     "name": "stdout",
     "output_type": "stream",
     "text": [
      "[0 2 1 6 9 5 7 4 3 8]\n",
      "[0 1 2 3 4 5 6 7 8 9]\n"
     ]
    }
   ],
   "source": [
    "A= np.random.permutation(range(0,10))\n",
    "print A\n",
    "quicksort(A,0,len(A)-1)\n",
    "print A"
   ]
  },
  {
   "cell_type": "markdown",
   "metadata": {
    "collapsed": true
   },
   "source": [
    "# Correctitud"
   ]
  },
  {
   "cell_type": "markdown",
   "metadata": {},
   "source": [
    "# Análisis del tiempo de ejecución"
   ]
  },
  {
   "cell_type": "code",
   "execution_count": 4,
   "metadata": {
    "collapsed": true
   },
   "outputs": [],
   "source": [
    "class Counter:\n",
    "    def __init__(self):\n",
    "        self.steps = 0\n",
    "\n",
    "    def reset(self):\n",
    "        self.steps = 0\n",
    "\n",
    "    def count(self):\n",
    "        self.steps += 1\n",
    "\n",
    "    def print_steps(self):\n",
    "        print \"Number of steps =\", self.steps\n",
    "        "
   ]
  },
  {
   "cell_type": "code",
   "execution_count": 5,
   "metadata": {
    "collapsed": false
   },
   "outputs": [],
   "source": [
    "def acct_quicksort(L, first, last, acct):\n",
    "    i = first; acct.count()\n",
    "    j = last; acct.count()     \n",
    "    pivote = (L[i] + L[j]) / 2; acct.count()\n",
    "\n",
    "    while i < j:\n",
    "        acct.count()\n",
    "        while L[i] < pivote:\n",
    "            acct.count()\n",
    "            i+=1; acct.count()\n",
    "        while L[j] > pivote:\n",
    "            acct.count()\n",
    "            j-=1;acct.count()\n",
    "        if i <= j:\n",
    "            acct.count()\n",
    "            x = L[j]; acct.count()\n",
    "            L[j] = L[i]; acct.count()\n",
    "            L[i] = x; acct.count()\n",
    "            i+=1; acct.count()\n",
    "            j-=1; acct.count()\n",
    "            \n",
    "    if first < j:    \n",
    "        acct.count()\n",
    "        L = acct_quicksort(L, first, j,acct);acct.count()\n",
    "    if last > i:\n",
    "        acct.count()\n",
    "        L = acct_quicksort(L, i, last,acct);acct.count()\n",
    "    return L"
   ]
  },
  {
   "cell_type": "code",
   "execution_count": 6,
   "metadata": {
    "collapsed": false
   },
   "outputs": [
    {
     "name": "stdout",
     "output_type": "stream",
     "text": [
      "Number of steps = 144\n"
     ]
    }
   ],
   "source": [
    "B = np.random.permutation(range(0,10))\n",
    "acct = Counter()\n",
    "acct_quicksort(B,0,len(B)-1, acct) \n",
    "acct.print_steps()"
   ]
  },
  {
   "cell_type": "code",
   "execution_count": 7,
   "metadata": {
    "collapsed": true
   },
   "outputs": [],
   "source": [
    "def T(n):\n",
    "    return n*n"
   ]
  },
  {
   "cell_type": "markdown",
   "metadata": {},
   "source": [
    "# Análisis Experimental"
   ]
  },
  {
   "cell_type": "code",
   "execution_count": 8,
   "metadata": {
    "collapsed": true
   },
   "outputs": [],
   "source": [
    "def exper_analysisS(n):\n",
    "    results = []\n",
    "    acct = Counter()\n",
    "    for i in range(n):\n",
    "        l=0\n",
    "        if i>0 :\n",
    "            l = range(i)\n",
    "            rnd.shuffle(l)\n",
    "            A =list(l)\n",
    "            acct.reset()\n",
    "            acct_quicksort(A,0,len(A)-1, acct)\n",
    "        results.append(acct.steps)\n",
    "    return results"
   ]
  },
  {
   "cell_type": "code",
   "execution_count": 9,
   "metadata": {
    "collapsed": true
   },
   "outputs": [],
   "source": [
    "def exper_analysisT(n):\n",
    "    results = []\n",
    "    for i in range(n):\n",
    "        t = 0\n",
    "        if i > 0 :\n",
    "            l = range(i)\n",
    "            rnd.shuffle(l)\n",
    "            A =list(l)\n",
    "            tic = time.clock()\n",
    "            quicksort(A,0,len(A)-1)\n",
    "            toc = time.clock()\n",
    "            t = (toc-tic)*5000000\n",
    "        results.append(t)\n",
    "    return results"
   ]
  },
  {
   "cell_type": "code",
   "execution_count": 10,
   "metadata": {
    "collapsed": true
   },
   "outputs": [],
   "source": [
    "def exper_analysisR(n):\n",
    "    results = []\n",
    "    acct = Counter()\n",
    "    for i in range(n):\n",
    "        l=0\n",
    "        if i > 1:\n",
    "            l = i * i\n",
    "        results.append(l)\n",
    "    return results"
   ]
  },
  {
   "cell_type": "code",
   "execution_count": 11,
   "metadata": {
    "collapsed": false
   },
   "outputs": [
    {
     "data": {
      "text/plain": [
       "[<matplotlib.lines.Line2D at 0x75e8048>,\n",
       " <matplotlib.lines.Line2D at 0x7842208>,\n",
       " <matplotlib.lines.Line2D at 0x7a5a630>]"
      ]
     },
     "execution_count": 11,
     "metadata": {},
     "output_type": "execute_result"
    },
    {
     "data": {
      "image/png": "[encoded data removed]",
      "text/plain": [
       "<matplotlib.figure.Figure at 0x70398d0>"
      ]
     },
     "metadata": {},
     "output_type": "display_data"
    }
   ],
   "source": [
    "pl.clf()\n",
    "x = np.arange(100)\n",
    "y1 = np.array(exper_analysisS(100))\n",
    "y2= np.array(exper_analysisT(100))\n",
    "y3 = np.array(exper_analysisR(100))\n",
    "pl.plot(x, y1, 'g.', x, y2, 'b.', x, y3, 'r.')"
   ]
  },
  {
   "cell_type": "code",
   "execution_count": null,
   "metadata": {
    "collapsed": true
   },
   "outputs": [],
   "source": []
  }
 ],
 "metadata": {
  "anaconda-cloud": {},
  "kernelspec": {
   "display_name": "Python 2",
   "language": "python",
   "name": "python2"
  },
  "language_info": {
   "codemirror_mode": {
    "name": "ipython",
    "version": 2
   },
   "file_extension": ".py",
   "mimetype": "text/x-python",
   "name": "python",
   "nbconvert_exporter": "python",
   "pygments_lexer": "ipython2",
   "version": "2.7.13"
  }
 },
 "nbformat": 4,
 "nbformat_minor": 1
}
