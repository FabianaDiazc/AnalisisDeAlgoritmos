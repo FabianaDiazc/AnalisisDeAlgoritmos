{
 "cells": [
  {
   "cell_type": "markdown",
   "metadata": {},
   "source": [
    "# Trivial "
   ]
  },
  {
   "cell_type": "code",
   "execution_count": 1,
   "metadata": {
    "collapsed": true
   },
   "outputs": [],
   "source": [
    "import sys\n",
    "import numpy as np\n",
    "import pylab as pl\n",
    "import random as rnd"
   ]
  },
  {
   "cell_type": "code",
   "execution_count": 2,
   "metadata": {
    "collapsed": true
   },
   "outputs": [],
   "source": [
    "def TMaxSubArreglo (array):\n",
    "    tam = len(array)\n",
    "    maxima=0\n",
    "    j=0\n",
    "    for i in range(tam):\n",
    "        sum = 0\n",
    "        for j in range(tam - i):\n",
    "            sum += array[j + i]\n",
    "            if sum > maxima:\n",
    "                maxima = sum   \n",
    "\n",
    "    return [maxima]\n"
   ]
  },
  {
   "cell_type": "code",
   "execution_count": 3,
   "metadata": {
    "collapsed": false
   },
   "outputs": [
    {
     "name": "stdout",
     "output_type": "stream",
     "text": [
      "[-2, 11, -4, 13, -5, -2]\n",
      "[20]\n"
     ]
    }
   ],
   "source": [
    "B = [-2, 11, -4, 13, -5, -2]\n",
    "print (B)\n",
    "A = TMaxSubArreglo(B)\n",
    "print (A)"
   ]
  },
  {
   "cell_type": "markdown",
   "metadata": {},
   "source": [
    "# Dividir y Conquitar"
   ]
  },
  {
   "cell_type": "code",
   "execution_count": 4,
   "metadata": {
    "collapsed": false
   },
   "outputs": [],
   "source": [
    "def  Primeros (a,b,c):\n",
    "    return max(max(a,b),c)"
   ]
  },
  {
   "cell_type": "code",
   "execution_count": 5,
   "metadata": {
    "collapsed": true
   },
   "outputs": [],
   "source": [
    "def FindMaxCrossingSubArray(a, l, m, h):\n",
    "    vl = -sys.maxsize - 1\n",
    "    vr = -sys.maxsize - 1\n",
    "    s = 0\n",
    "    for i in range(m, l, -1):\n",
    "        s = s + a[i]\n",
    "        if s > vl:\n",
    "            vl = s\n",
    "\n",
    "    s = 0   \n",
    "    for i in range(m + 1, h, 1):\n",
    "        s = s + a[i]\n",
    "        if s > vr:\n",
    "            vr = s\n",
    "         \n",
    "    return vl + vr"
   ]
  },
  {
   "cell_type": "code",
   "execution_count": 6,
   "metadata": {
    "collapsed": true
   },
   "outputs": [],
   "source": [
    "def FindMaxSubArray(a,l,h):\n",
    "    if l == h:\n",
    "        return a[l]\n",
    "    m= ((l+h)/2)\n",
    "    return Primeros(FindMaxSubArray(a,l,m),\n",
    "                        FindMaxSubArray(a, m + 1, h),\n",
    "                        FindMaxCrossingSubArray(a, l, m, h))\n",
    "      "
   ]
  },
  {
   "cell_type": "code",
   "execution_count": 7,
   "metadata": {
    "collapsed": false
   },
   "outputs": [
    {
     "name": "stdout",
     "output_type": "stream",
     "text": [
      "[-2, 11, -4, 13, -5, -2]\n",
      "20\n"
     ]
    }
   ],
   "source": [
    "B = [-2, 11, -4, 13, -5, -2]\n",
    "print (B)\n",
    "A = FindMaxSubArray(B, 0, len(B)-1)\n",
    "print (A)\n"
   ]
  },
  {
   "cell_type": "markdown",
   "metadata": {},
   "source": [
    "# Algoritmo (J.L. Bentley, 1989.)"
   ]
  },
  {
   "cell_type": "code",
   "execution_count": 8,
   "metadata": {
    "collapsed": true
   },
   "outputs": [],
   "source": [
    "def maxB2(a,b):\n",
    "    if a<b:\n",
    "        return b\n",
    "    else:\n",
    "        return a"
   ]
  },
  {
   "cell_type": "code",
   "execution_count": 9,
   "metadata": {
    "collapsed": true
   },
   "outputs": [],
   "source": [
    "def Bentley (a,p,f):\n",
    "    if p > f:\n",
    "        return 0\n",
    "    if p == f:\n",
    "        return maxB2(0,a[p])\n",
    "    m = ((p + f)/2)\n",
    "    \n",
    "    maxAux= maxB2(Bentley(a,p,m),\n",
    "                 Bentley(a,m + 1,f))\n",
    "    \n",
    "    vp=0;\n",
    "    s=0\n",
    "    for i in range(m,p - 1,-1):\n",
    "        s += a[i]\n",
    "        vp = maxB2(vp,s)\n",
    "    \n",
    "    vf=0\n",
    "    s=0\n",
    "    for i in range(f - m):\n",
    "        s += a[i + m + 1]\n",
    "        vf =maxB2(vf ,s)\n",
    "        \n",
    "    return maxB2(vf + vp ,maxAux)\n"
   ]
  },
  {
   "cell_type": "code",
   "execution_count": 10,
   "metadata": {
    "collapsed": false
   },
   "outputs": [
    {
     "name": "stdout",
     "output_type": "stream",
     "text": [
      "[-2, 11, -4, 13, -5, -2]\n",
      "20\n"
     ]
    }
   ],
   "source": [
    "B = [-2, 11, -4, 13, -5, -2]\n",
    "print (B)\n",
    "A = Bentley(B, 0, len(B)-1)\n",
    "print (A)\n"
   ]
  }
 ],
 "metadata": {
  "kernelspec": {
   "display_name": "Python 2",
   "language": "python",
   "name": "python2"
  },
  "language_info": {
   "codemirror_mode": {
    "name": "ipython",
    "version": 2
   },
   "file_extension": ".py",
   "mimetype": "text/x-python",
   "name": "python",
   "nbconvert_exporter": "python",
   "pygments_lexer": "ipython2",
   "version": "2.7.13"
  }
 },
 "nbformat": 4,
 "nbformat_minor": 2
}
