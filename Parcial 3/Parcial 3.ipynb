{
 "cells": [
  {
   "cell_type": "markdown",
   "metadata": {},
   "source": [
    "# Punto 1"
   ]
  },
  {
   "cell_type": "code",
   "execution_count": 1,
   "metadata": {
    "collapsed": true
   },
   "outputs": [],
   "source": [
    "import math\n",
    "import numpy as np\n",
    "import pylab as pl\n",
    "import random as rnd\n",
    "import time\n",
    "from sympy.geometry import Point, Line, Segment\n",
    "%matplotlib inline"
   ]
  },
  {
   "cell_type": "code",
   "execution_count": 2,
   "metadata": {
    "collapsed": false
   },
   "outputs": [],
   "source": [
    "class punto:\n",
    "    def  __init__(self,x,y):\n",
    "        self.x = x;\n",
    "        self.y = y;"
   ]
  },
  {
   "cell_type": "code",
   "execution_count": 3,
   "metadata": {
    "collapsed": true
   },
   "outputs": [],
   "source": [
    "def distancia(p1,p2):\n",
    "    return  math.sqrt(math.pow(p1.x - p2.x, 2) + math.pow(p1.y - p2.y, 2))\n",
    "\n",
    "def area(pa,pb,pc):\n",
    "    a = distancia(pb,pc)\n",
    "    b = distancia(pa,pc)\n",
    "    c = distancia(pa,pb)\n",
    "    s  =  (a +b  +c )/2\n",
    "    return math.sqrt(s*(s-a)*(s-b)*(s-c))\n",
    "\n",
    "def esColinear(p1,p2,p3): \n",
    "    return area(p1,p2,p3) == 0"
   ]
  },
  {
   "cell_type": "code",
   "execution_count": 4,
   "metadata": {
    "collapsed": false
   },
   "outputs": [
    {
     "data": {
      "text/plain": [
       "True"
      ]
     },
     "execution_count": 4,
     "metadata": {},
     "output_type": "execute_result"
    }
   ],
   "source": [
    "p1= punto(0,0)\n",
    "p2= punto(1,0)\n",
    "p3= punto(2,0)\n",
    "esColinear(p1,p2,p3)"
   ]
  },
  {
   "cell_type": "code",
   "execution_count": 5,
   "metadata": {
    "collapsed": false
   },
   "outputs": [
    {
     "data": {
      "text/plain": [
       "False"
      ]
     },
     "execution_count": 5,
     "metadata": {},
     "output_type": "execute_result"
    }
   ],
   "source": [
    "p5= punto(0,0)\n",
    "p6= punto(1,1)\n",
    "p7= punto(2,3)\n",
    "esColinear(p5,p6,p7)"
   ]
  },
  {
   "cell_type": "markdown",
   "metadata": {},
   "source": [
    "# Punto 2"
   ]
  },
  {
   "cell_type": "code",
   "execution_count": 6,
   "metadata": {
    "collapsed": false
   },
   "outputs": [],
   "source": [
    "class segmentosC:\n",
    "    def  __init__(self,x,y):\n",
    "        self.x = x;\n",
    "        self.y = y;"
   ]
  },
  {
   "cell_type": "code",
   "execution_count": 7,
   "metadata": {
    "collapsed": false
   },
   "outputs": [],
   "source": [
    "def cruce(p1,p2,p3,p4):\n",
    "    \n",
    "    if(p2[0] - p1[0] == 0 ):\n",
    "        s1 = ( p2 [0] - p1 [0] )/( p2 [1] - p1 [1] )\n",
    "        \n",
    "    else:\n",
    "        s1=(p2[1] - p1[1])/(p2[0] - p1[0])\n",
    "        \n",
    "    if(p4[0] - p3[0] == 0):\n",
    "        s2=(p4[0] - p3[0])/(p4[1] - p3[1])\n",
    "        \n",
    "    else:\n",
    "        s2=(p4[1] - p3[1])/(p4[0] - p3[0])\n",
    "        \n",
    "    ss1 = p1[1] - ( s1 * p1[0] )\n",
    "    ss2 = p3[1] - ( s2 * p3[0] )\n",
    "    \n",
    "    if(s1-s2!=0):\n",
    "        z=(s2 - ss1)/(s1 - s2)\n",
    "        w=(s1 * z) + ss1\n",
    "        return z,w\n",
    "        \n",
    "    else:\n",
    "        return -10,-10\n",
    "\n",
    "def esSimple(poligono):\n",
    "\n",
    "    segmentos=[]\n",
    "    esSimple=1;\n",
    "    \n",
    "    for p in range(len(poligono) - 1):\n",
    "        segmento = segmentosC(poligono[p],poligono[p + 1]);\n",
    "        segmentos.append(segmento)\n",
    "        \n",
    "    segmento= segmentosC(poligono[0], poligono[len(poligono) - 1])\n",
    "    segmentos.append(segmento)    \n",
    "\n",
    "    for l in range(len(segmentos)-1):\n",
    "        s1=segmentos[l]\n",
    "        p1 = s1.x\n",
    "        p2 = s1.y\n",
    "        for l1 in range(l + 1, len(segmentos) - 1):\n",
    "            s2= segmentos[l1]\n",
    "            p3= s2.x\n",
    "            p4= s2.y\n",
    "            z,w = cruce(p1,p2,p3,p4)\n",
    "            if(z!= -10):\n",
    "                pp=[z,w]\n",
    "                if(p2 == pp or p1 == pp or p4 == pp):\n",
    "                    simple=1\n",
    "                else:\n",
    "                    return False\n",
    "    if(esSimple == 1):\n",
    "        return True;"
   ]
  },
  {
   "cell_type": "code",
   "execution_count": 8,
   "metadata": {
    "collapsed": false
   },
   "outputs": [
    {
     "name": "stdout",
     "output_type": "stream",
     "text": [
      "False\n"
     ]
    }
   ],
   "source": [
    "p1=[0,0]\n",
    "p2=[2,2]\n",
    "p3=[3,1]\n",
    "p4=[0.5,1]\n",
    "puntos=[p1,p2,p3,p4]\n",
    "print (esSimple(puntos))"
   ]
  },
  {
   "cell_type": "code",
   "execution_count": 9,
   "metadata": {
    "collapsed": false
   },
   "outputs": [
    {
     "name": "stdout",
     "output_type": "stream",
     "text": [
      "True\n"
     ]
    }
   ],
   "source": [
    "p1=[1,1]\n",
    "p2=[-1,-1]\n",
    "p3=[2,2]\n",
    "p4=[-2,-2]\n",
    "puntos=[p1,p2,p3,p4]\n",
    "print (esSimple(puntos))"
   ]
  }
 ],
 "metadata": {
  "kernelspec": {
   "display_name": "Python 2",
   "language": "python",
   "name": "python2"
  },
  "language_info": {
   "codemirror_mode": {
    "name": "ipython",
    "version": 2
   },
   "file_extension": ".py",
   "mimetype": "text/x-python",
   "name": "python",
   "nbconvert_exporter": "python",
   "pygments_lexer": "ipython2",
   "version": "2.7.13"
  }
 },
 "nbformat": 4,
 "nbformat_minor": 2
}
