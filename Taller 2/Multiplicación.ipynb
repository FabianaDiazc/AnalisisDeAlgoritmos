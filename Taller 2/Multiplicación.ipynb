{
 "cells": [
  {
   "cell_type": "markdown",
   "metadata": {},
   "source": [
    "# Multiplicación"
   ]
  },
  {
   "cell_type": "code",
   "execution_count": 1,
   "metadata": {
    "collapsed": true
   },
   "outputs": [],
   "source": [
    "import math\n",
    "import numpy as np\n",
    "import pylab as pl\n",
    "import random as rnd\n",
    "import time\n",
    "%matplotlib inline"
   ]
  },
  {
   "cell_type": "code",
   "execution_count": 2,
   "metadata": {
    "collapsed": false
   },
   "outputs": [],
   "source": [
    "def matrixM(m,n): \n",
    "    results = np.zeros((len(m),len(n)))\n",
    "    for i in range(len(m)):\n",
    "           for j in range(len(n[0])):\n",
    "                   for k in range(len(n)):\n",
    "                           results[i][j] += m[i][k] * n[k][j]\n",
    "    return results\n"
   ]
  },
  {
   "cell_type": "code",
   "execution_count": 3,
   "metadata": {
    "collapsed": false
   },
   "outputs": [
    {
     "name": "stdout",
     "output_type": "stream",
     "text": [
      "[[3 2 3]\n",
      " [6 2 1]\n",
      " [6 3 8]]\n",
      "[[6 4 4]\n",
      " [8 4 4]\n",
      " [6 3 2]]\n",
      "[[  52.   29.   26.]\n",
      " [  58.   35.   34.]\n",
      " [ 108.   60.   52.]]\n"
     ]
    }
   ],
   "source": [
    "m= np.random.randint(9, size=(3,3)) # de 0 a 9\n",
    "n= np.random.randint(9, size=(3,3)) # de 0 a 9\n",
    "print m\n",
    "print n\n",
    "E=matrixM(m,n)\n",
    "print E"
   ]
  },
  {
   "cell_type": "code",
   "execution_count": 4,
   "metadata": {
    "collapsed": true
   },
   "outputs": [],
   "source": [
    "class Counter:\n",
    "    def __init__(self):\n",
    "        self.steps = 0\n",
    "\n",
    "    def reset(self):\n",
    "        self.steps = 0\n",
    "\n",
    "    def count(self):\n",
    "        self.steps += 1\n",
    "\n",
    "    def print_steps(self):\n",
    "        print \"Number of steps =\", self.steps"
   ]
  },
  {
   "cell_type": "code",
   "execution_count": 5,
   "metadata": {
    "collapsed": false
   },
   "outputs": [],
   "source": [
    "def acctMatrixM(m,n, acct):\n",
    "    results = np.zeros((len(m),len(n))); acct.count() \n",
    "    acct.count() \n",
    "    for i in range(len(m)):\n",
    "        acct.count() \n",
    "        for j in range(len(n[0])):\n",
    "            acct.count() \n",
    "            for k in range(len(n)):\n",
    "                acct.count() \n",
    "                results[i][j] += m[i][k] * n[k][j]; acct.count(); acct.count()   \n",
    "    return results\n"
   ]
  },
  {
   "cell_type": "code",
   "execution_count": 6,
   "metadata": {
    "collapsed": false
   },
   "outputs": [
    {
     "name": "stdout",
     "output_type": "stream",
     "text": [
      "Number of steps = 95\n"
     ]
    }
   ],
   "source": [
    "m= np.random.randint(9, size=(3,3)) # de 0 a 9\n",
    "n= np.random.randint(9, size=(3,3)) # de 0 a 9\n",
    "acct= Counter()\n",
    "acctMatrixM(m,n,acct)\n",
    "acct.print_steps()"
   ]
  },
  {
   "cell_type": "code",
   "execution_count": 7,
   "metadata": {
    "collapsed": false
   },
   "outputs": [],
   "source": [
    "def exper_analysis(n):\n",
    "    results = []\n",
    "    acct = Counter()\n",
    "    for i in range(n):\n",
    "        m= np.random.randint(9, size=(i,i)) \n",
    "        x= np.random.randint(9, size=(i,i)) \n",
    "        acct.reset()\n",
    "        acctMatrixM(m,x,acct)\n",
    "        results.append(acct.steps)\n",
    "    print results\n",
    "    return results"
   ]
  },
  {
   "cell_type": "code",
   "execution_count": 8,
   "metadata": {
    "collapsed": false,
    "scrolled": true
   },
   "outputs": [
    {
     "name": "stdout",
     "output_type": "stream",
     "text": [
      "[2, 7, 32, 95, 214, 407, 692, 1087, 1610, 2279]\n",
      "[2, 7, 32, 95, 214, 407, 692, 1087, 1610, 2279]\n"
     ]
    }
   ],
   "source": [
    "print exper_analysis(10)"
   ]
  },
  {
   "cell_type": "code",
   "execution_count": 9,
   "metadata": {
    "collapsed": false
   },
   "outputs": [
    {
     "name": "stdout",
     "output_type": "stream",
     "text": [
      "[2, 7, 32, 95, 214, 407, 692, 1087, 1610, 2279]\n"
     ]
    },
    {
     "data": {
      "text/plain": [
       "[<matplotlib.lines.Line2D at 0x71021d0>]"
      ]
     },
     "execution_count": 9,
     "metadata": {},
     "output_type": "execute_result"
    },
    {
     "data": {
      "image/png": "[encoded data removed]",
      "text/plain": [
       "<matplotlib.figure.Figure at 0x734ba90>"
      ]
     },
     "metadata": {},
     "output_type": "display_data"
    }
   ],
   "source": [
    "pl.clf()\n",
    "x = np.arange(10)\n",
    "y = np.array(exper_analysis(10))\n",
    "pl.plot(x, y, 'r.')"
   ]
  },
  {
   "cell_type": "markdown",
   "metadata": {},
   "source": [
    "# Dividir y Conquitar"
   ]
  },
  {
   "cell_type": "code",
   "execution_count": 10,
   "metadata": {
    "collapsed": true
   },
   "outputs": [],
   "source": [
    "def suma(m,n):\n",
    "    t = len(m)\n",
    "    results = np.zeros((len(m),len(n)))\n",
    "    for i in range(t):\n",
    "        for j in range(t):\n",
    "            results[i][j] = m[i][j] + n[i][j]\n",
    "    return results\n",
    "\n",
    "def matrixMDC(m, n):\n",
    "    bandera=0 \n",
    "    if (len(m) <= 2):\n",
    "         return matrixM(m,n)\n",
    "    else :\n",
    "        L=len(m)\n",
    "        if(L%2!=0):\n",
    "            x = np.zeros((L, 1))\n",
    "            y = np.zeros((1, L+1))\n",
    "            m = np.c_[m,x]\n",
    "            m = np.r_[m,y]\n",
    "            n = np.c_[n,x]\n",
    "            n = np.r_[n,y]\n",
    "            L=L+1    \n",
    "            bandera=1 \n",
    "        L= (L)/2\n",
    "        aa=m[:L,:L]\n",
    "        ab=m[:L,L:]\n",
    "        ac=m[L:,:L]\n",
    "        ad=m[L:,L:]\n",
    "        ba=n[:L,:L]\n",
    "        bb=n[:L,L:]\n",
    "        bc=n[L:,:L]\n",
    "        bd=n[L:,L:]     \n",
    "    caa =matrixMDC(aa,ba)\n",
    "    cab =matrixMDC(ab,bc)\n",
    "    cba =matrixMDC(aa,bb)\n",
    "    cbb =matrixMDC(ab,bd)\n",
    "    cca=matrixMDC(ac,ba)\n",
    "    ccb =matrixMDC(ad,bc)\n",
    "    cda =matrixMDC(ac,bb)\n",
    "    cdb =matrixMDC(ad,bd)\n",
    "    ca = suma(caa,cab)\n",
    "    cb = suma(cba,cbb)\n",
    "    cc = suma(cca,ccb)\n",
    "    cd = suma(cda,cdb)\n",
    "    ca = np.c_[ca,cb]\n",
    "    cc = np.c_[cc,cd]\n",
    "    ca = np.r_[ca,cc]\n",
    "    if bandera==1:\n",
    "        l=len(ca)\n",
    "        ca = ca[:l-1,:l-1]\n",
    "    return ca"
   ]
  },
  {
   "cell_type": "code",
   "execution_count": 11,
   "metadata": {
    "collapsed": false,
    "scrolled": true
   },
   "outputs": [
    {
     "name": "stdout",
     "output_type": "stream",
     "text": [
      "[[8 7 2]\n",
      " [3 6 2]\n",
      " [0 5 4]]\n",
      "[[4 3 3]\n",
      " [4 0 3]\n",
      " [0 2 3]]\n",
      "[[ 60.  28.  51.]\n",
      " [ 36.  13.  33.]\n",
      " [ 20.   8.  27.]]\n"
     ]
    }
   ],
   "source": [
    "m= np.random.randint(9, size=(3,3)) # de 0 a 9\n",
    "n= np.random.randint(9, size=(3,3)) # de 0 a 9\n",
    "print m\n",
    "print n\n",
    "E=matrixMDC(m,n)\n",
    "print E"
   ]
  },
  {
   "cell_type": "code",
   "execution_count": 12,
   "metadata": {
    "collapsed": false
   },
   "outputs": [],
   "source": [
    "def acctsuma(m,n,acct):\n",
    "    t = len(m);acct.count()\n",
    "    results = np.zeros((len(m),len(n)));acct.count()\n",
    "    for i in range(t):\n",
    "        acct.count()\n",
    "        for j in range(t):\n",
    "            acct.count()\n",
    "            results[i][j] = m[i][j] + n[i][j];acct.count()\n",
    "    return results\n",
    "def acctmatrixMDC(m, n, acct):\n",
    "    bandera= 0;acct.count() #false\n",
    "    if (len(m) <= 2):\n",
    "         return acctMatrixM(m,n,acct)\n",
    "    else :\n",
    "        L=len(m);acct.count()\n",
    "        if(L%2!=0):\n",
    "            acct.count()\n",
    "            x = np.zeros((L, 1));acct.count()\n",
    "            y = np.zeros((1, L+1));acct.count()\n",
    "            m = np.c_[m,x];acct.count()\n",
    "            m = np.r_[m,y];acct.count()\n",
    "            n = np.c_[n,x];acct.count()\n",
    "            n = np.r_[n,y];acct.count()\n",
    "            L= L+1 ;acct.count()   \n",
    "            bandera= 1 ;acct.count() #true \n",
    "        L= (L)/2;acct.count()\n",
    "        aa=m[:L,:L];acct.count()\n",
    "        ab=m[:L,L:];acct.count()\n",
    "        ac=m[L:,:L];acct.count()\n",
    "        ad=m[L:,L:];acct.count()\n",
    "        ba=n[:L,:L];acct.count()\n",
    "        bb=n[:L,L:];acct.count()\n",
    "        bc=n[L:,:L];acct.count()\n",
    "        bd=n[L:,L:];acct.count()\n",
    "    caa =acctmatrixMDC(aa,ba,acct);acct.count()\n",
    "    cab =acctmatrixMDC(ab,bc,acct);acct.count()\n",
    "    cba =acctmatrixMDC(aa,bb,acct);acct.count()\n",
    "    cbb =acctmatrixMDC(ab,bd,acct);acct.count()\n",
    "    cca =acctmatrixMDC(ac,ba,acct);acct.count()\n",
    "    ccb =acctmatrixMDC(ad,bc,acct);acct.count()\n",
    "    cda =acctmatrixMDC(ac,bb,acct);acct.count()\n",
    "    cdb =acctmatrixMDC(ad,bd,acct);acct.count()\n",
    "    ca = acctsuma(caa,cab,acct);acct.count()\n",
    "    cb = acctsuma(cba,cbb,acct);acct.count()\n",
    "    cc = acctsuma(cca,ccb,acct);acct.count()\n",
    "    cd = acctsuma(cda,cdb,acct);acct.count()\n",
    "    ca = np.c_[ca,cb];acct.count()\n",
    "    cc = np.c_[cc,cd];acct.count()\n",
    "    ca = np.r_[ca,cc];acct.count()\n",
    "    if bandera==1:\n",
    "        acct.count()\n",
    "        l=len(ca);acct.count()\n",
    "        ca = ca[:l-1,:l-1];acct.count()\n",
    "    return ca"
   ]
  },
  {
   "cell_type": "code",
   "execution_count": 13,
   "metadata": {
    "collapsed": false
   },
   "outputs": [
    {
     "name": "stdout",
     "output_type": "stream",
     "text": [
      "Number of steps = 350\n"
     ]
    }
   ],
   "source": [
    "m= np.random.randint(9, size=(3,3)) # de 0 a 9\n",
    "n= np.random.randint(9, size=(3,3)) # de 0 a 9\n",
    "acct= Counter()\n",
    "acctmatrixMDC(m,n,acct)\n",
    "acct.print_steps()"
   ]
  },
  {
   "cell_type": "code",
   "execution_count": 14,
   "metadata": {
    "collapsed": true
   },
   "outputs": [],
   "source": [
    "def exper_analysisDC(n):\n",
    "    results = []\n",
    "    acct = Counter()\n",
    "    for i in range(n):\n",
    "        m = np.random.randint(9,size=(i,i))\n",
    "        x = np.random.randint(9,size=(i,i))\n",
    "        acct.reset()\n",
    "        acctmatrixMDC(m,x,acct)\n",
    "        results.append(acct.steps)\n",
    "    return results"
   ]
  },
  {
   "cell_type": "code",
   "execution_count": 15,
   "metadata": {
    "collapsed": false
   },
   "outputs": [
    {
     "name": "stdout",
     "output_type": "stream",
     "text": [
      "[3, 8, 33, 350, 338, 2930, 2918, 2894, 2882, 23706]\n"
     ]
    }
   ],
   "source": [
    "print exper_analysisDC(10)"
   ]
  },
  {
   "cell_type": "code",
   "execution_count": 16,
   "metadata": {
    "collapsed": false,
    "scrolled": true
   },
   "outputs": [
    {
     "data": {
      "text/plain": [
       "[<matplotlib.lines.Line2D at 0x77771d0>]"
      ]
     },
     "execution_count": 16,
     "metadata": {},
     "output_type": "execute_result"
    },
    {
     "data": {
      "image/png": "[encoded data removed]",
      "text/plain": [
       "<matplotlib.figure.Figure at 0x754d908>"
      ]
     },
     "metadata": {},
     "output_type": "display_data"
    }
   ],
   "source": [
    "pl.clf()\n",
    "x = np.arange(10)\n",
    "y = np.array(exper_analysisDC(10))\n",
    "pl.plot(x, y, 'b.')"
   ]
  },
  {
   "cell_type": "markdown",
   "metadata": {},
   "source": [
    "# Algoritmo de Strassen"
   ]
  },
  {
   "cell_type": "code",
   "execution_count": 17,
   "metadata": {
    "collapsed": true
   },
   "outputs": [],
   "source": [
    "def resta(m,n):\n",
    "    t = len(m)\n",
    "    results = np.zeros((len(m),len(n)))\n",
    "    for i in range(t):\n",
    "        for j in range(t):\n",
    "            results[i][j] = m[i][j] - n[i][j]\n",
    "    return results\n",
    "\n",
    "def matrixMS(m, n):\n",
    "    bandera=0 #false\n",
    "    if (len(m) <= 2):\n",
    "         return matrixM(m,n)\n",
    "    else :\n",
    "        L=len(m)\n",
    "        if(L%2!=0):\n",
    "            x = np.zeros((L, 1))\n",
    "            y = np.zeros((1, L+1))\n",
    "            m = np.c_[m,x]\n",
    "            m = np.r_[m,y]\n",
    "            n = np.c_[n,x]\n",
    "            n = np.r_[n,y]\n",
    "            L=L+1    \n",
    "            bandera=1 \n",
    "        L= (L)/2\n",
    "        aa=m[:L,:L]\n",
    "        ab=m[:L,L:]\n",
    "        ac=m[L:,:L]\n",
    "        ad=m[L:,L:]\n",
    "        ba=n[:L,:L]\n",
    "        bb=n[:L,L:]\n",
    "        bc=n[L:,:L]\n",
    "        bd=n[L:,L:]      \n",
    "    maa = suma(aa,ad)\n",
    "    mab = suma(ba,bd)\n",
    "    ma  = matrixMS(maa,mab)\n",
    "    mba = suma(ac,ad)\n",
    "    mb  = matrixMS(mba,ba)\n",
    "    mca = resta(bb,bd)\n",
    "    mc  = matrixMS(aa,mca)\n",
    "    mda = resta(bc,ba)\n",
    "    md  = matrixMS(ad,mda)\n",
    "    mea = suma(aa,ab)\n",
    "    me = matrixMS(mea,bd)\n",
    "    mfa = resta(ac,aa)\n",
    "    mfb = suma(ba,bb)\n",
    "    mf = matrixMS(mfa,mfb)\n",
    "    mga = resta(ab,ad)\n",
    "    mgb = suma(bc,bd)\n",
    "    mg = matrixMS(mga,mgb)\n",
    "    ca = suma(ma,md)\n",
    "    ca = resta(ca,me)\n",
    "    ca = suma(ca,mg)\n",
    "    cb = suma(mc,me)\n",
    "    cc = suma(mb,md)\n",
    "    cd = resta(ma,mb)\n",
    "    cd = suma(cd,mc)\n",
    "    cd = suma(cd,mf)\n",
    "    ca = np.c_[ca,cb]\n",
    "    cc = np.c_[cc,cd]\n",
    "    ca = np.r_[ca,cc]\n",
    "    if bandera==1:\n",
    "        l=len(ca)\n",
    "        ca = ca[:l-1,:l-1]\n",
    "    return ca"
   ]
  },
  {
   "cell_type": "code",
   "execution_count": 18,
   "metadata": {
    "collapsed": false
   },
   "outputs": [
    {
     "name": "stdout",
     "output_type": "stream",
     "text": [
      "[[0 2 3]\n",
      " [0 2 8]\n",
      " [3 6 2]]\n",
      "[[3 8 3]\n",
      " [7 3 0]\n",
      " [2 0 3]]\n",
      "[[ 20.   6.   9.]\n",
      " [ 30.   6.  24.]\n",
      " [ 55.  42.  15.]]\n"
     ]
    }
   ],
   "source": [
    "m= np.random.randint(9, size=(3,3)) # de 0 a 9\n",
    "n= np.random.randint(9, size=(3,3)) # de 0 a 9\n",
    "print m\n",
    "print n\n",
    "E=matrixMS(m,n)\n",
    "print E"
   ]
  },
  {
   "cell_type": "code",
   "execution_count": 19,
   "metadata": {
    "collapsed": true
   },
   "outputs": [],
   "source": [
    "def acctresta(m,n,acct):\n",
    "    t = len(m);acct.count()\n",
    "    results = np.zeros((len(m),len(n)));acct.count()\n",
    "    for i in range(t):\n",
    "        acct.count()\n",
    "        for j in range(t):\n",
    "            acct.count()\n",
    "            results[i][j] = m[i][j] - n[i][j];acct.count()\n",
    "    return results\n",
    "\n",
    "def acctmatrixMS(m, n,acct):\n",
    "    bandera=0;acct.count() #false\n",
    "    if (len(m) <= 2):\n",
    "        acct.count()\n",
    "        return acctMatrixM(m,n,acct)\n",
    "    else :\n",
    "        L=len(m);acct.count()\n",
    "        if(L%2!=0):\n",
    "            acct.count()\n",
    "            x = np.zeros((L, 1));acct.count()\n",
    "            y = np.zeros((1, L+1));acct.count()\n",
    "            m = np.c_[m,x];acct.count()\n",
    "            m = np.r_[m,y];acct.count()\n",
    "            n = np.c_[n,x];acct.count()\n",
    "            n = np.r_[n,y];acct.count()\n",
    "            L=L+1;acct.count()\n",
    "            bandera=1;acct.count() \n",
    "        L= (L)/2;acct.count()\n",
    "        aa=m[:L,:L];acct.count()\n",
    "        ab=m[:L,L:];acct.count()\n",
    "        ac=m[L:,:L];acct.count()\n",
    "        ad=m[L:,L:];acct.count()\n",
    "        ba=n[:L,:L];acct.count()\n",
    "        bb=n[:L,L:];acct.count()\n",
    "        bc=n[L:,:L];acct.count()\n",
    "        bd=n[L:,L:];acct.count()\n",
    "    maa = acctsuma(aa,ad,acct);acct.count()\n",
    "    mab = acctsuma(ba,bd,acct);acct.count()\n",
    "    ma  = acctmatrixMS(maa,mab,acct);acct.count()\n",
    "    mba = acctsuma(ac,ad,acct);acct.count()\n",
    "    mb  = acctmatrixMS(mba,ba,acct);acct.count()\n",
    "    mca = acctresta(bb,bd,acct);acct.count()\n",
    "    mc  = acctmatrixMS(aa,mca,acct);acct.count()\n",
    "    mda = acctresta(bc,ba,acct);acct.count()\n",
    "    md  = acctmatrixMS(ad,mda,acct);acct.count()\n",
    "    mea = acctsuma(aa,ab,acct);acct.count()\n",
    "    me = acctmatrixMS(mea,bd,acct);acct.count()\n",
    "    mfa = acctresta(ac,aa,acct);acct.count()\n",
    "    mfb = acctsuma(ba,bb,acct);acct.count()\n",
    "    mf = acctmatrixMS(mfa,mfb,acct);acct.count()\n",
    "    mga = acctresta(ab,ad,acct);acct.count()\n",
    "    mgb = acctsuma(bc,bd,acct);acct.count()\n",
    "    mg = acctmatrixMS(mga,mgb,acct);acct.count()\n",
    "    ca = acctsuma(ma,md,acct);acct.count()\n",
    "    ca = acctresta(ca,me,acct);acct.count()\n",
    "    ca = acctsuma(ca,mg,acct);acct.count()\n",
    "    cb = acctsuma(mc,me,acct);acct.count()\n",
    "    cc = acctsuma(mb,md,acct);acct.count()\n",
    "    cd = acctresta(ma,mb,acct);acct.count()\n",
    "    cd = acctsuma(cd,mc,acct);acct.count()\n",
    "    cd = acctsuma(cd,mf,acct);acct.count()\n",
    "    ca = np.c_[ca,cb];acct.count()\n",
    "    cc = np.c_[cc,cd];acct.count()\n",
    "    ca = np.r_[ca,cc];acct.count()\n",
    "    if bandera==1:\n",
    "        acct.count()\n",
    "        l=len(ca);acct.count()\n",
    "        ca = ca[:l-1,:l-1];acct.count()\n",
    "    return ca"
   ]
  },
  {
   "cell_type": "code",
   "execution_count": 20,
   "metadata": {
    "collapsed": false
   },
   "outputs": [
    {
     "name": "stdout",
     "output_type": "stream",
     "text": [
      "Number of steps = 505\n"
     ]
    }
   ],
   "source": [
    "m= np.random.randint(9, size=(3,3)) # de 0 a 9\n",
    "n= np.random.randint(9, size=(3,3)) # de 0 a 9\n",
    "acct= Counter()\n",
    "acctmatrixMS(m,n,acct)\n",
    "acct.print_steps()"
   ]
  },
  {
   "cell_type": "code",
   "execution_count": 21,
   "metadata": {
    "collapsed": true
   },
   "outputs": [],
   "source": [
    "def exper_analysisS(n):\n",
    "    results = []\n",
    "    acct = Counter()\n",
    "    for i in range(n):\n",
    "        m = np.random.randint(9,size=(i,i))\n",
    "        x = np.random.randint(9,size=(i,i))\n",
    "        acct.reset()\n",
    "        acctmatrixMS(m,x,acct)\n",
    "        results.append(acct.steps)\n",
    "    return results"
   ]
  },
  {
   "cell_type": "code",
   "execution_count": 22,
   "metadata": {
    "collapsed": false
   },
   "outputs": [
    {
     "name": "stdout",
     "output_type": "stream",
     "text": [
      "[4, 9, 34, 505, 493, 4000, 3988, 4186, 4174, 29077]\n"
     ]
    }
   ],
   "source": [
    "print exper_analysisS(10)"
   ]
  },
  {
   "cell_type": "code",
   "execution_count": 23,
   "metadata": {
    "collapsed": false,
    "scrolled": true
   },
   "outputs": [
    {
     "data": {
      "text/plain": [
       "[<matplotlib.lines.Line2D at 0x79d3b70>]"
      ]
     },
     "execution_count": 23,
     "metadata": {},
     "output_type": "execute_result"
    },
    {
     "data": {
      "image/png": "[encoded data removed]",
      "text/plain": [
       "<matplotlib.figure.Figure at 0x74af780>"
      ]
     },
     "metadata": {},
     "output_type": "display_data"
    }
   ],
   "source": [
    "pl.clf()\n",
    "x = np.arange(10)\n",
    "y = np.array(exper_analysisS(10))\n",
    "pl.plot(x, y, 'k.')"
   ]
  },
  {
   "cell_type": "code",
   "execution_count": 24,
   "metadata": {
    "collapsed": true
   },
   "outputs": [],
   "source": [
    "# Todas juntas"
   ]
  },
  {
   "cell_type": "code",
   "execution_count": 25,
   "metadata": {
    "collapsed": false
   },
   "outputs": [
    {
     "name": "stdout",
     "output_type": "stream",
     "text": [
      "[2, 7, 32, 95, 214, 407, 692, 1087, 1610, 2279]\n"
     ]
    },
    {
     "data": {
      "text/plain": [
       "[<matplotlib.lines.Line2D at 0x80c1cc0>,\n",
       " <matplotlib.lines.Line2D at 0x80c1da0>,\n",
       " <matplotlib.lines.Line2D at 0x80d1400>]"
      ]
     },
     "execution_count": 25,
     "metadata": {},
     "output_type": "execute_result"
    },
    {
     "data": {
      "image/png": "[encoded data removed]",
      "text/plain": [
       "<matplotlib.figure.Figure at 0x7a90630>"
      ]
     },
     "metadata": {},
     "output_type": "display_data"
    }
   ],
   "source": [
    "pl.clf()\n",
    "x = np.arange(10)\n",
    "y1 = np.array(exper_analysis(10))\n",
    "y2= np.array(exper_analysisDC(10))\n",
    "y3 = np.array(exper_analysisS(10))\n",
    "pl.plot(x, y1, 'r.', x, y2, 'b.', x, y3, 'k.')"
   ]
  }
 ],
 "metadata": {
  "anaconda-cloud": {},
  "kernelspec": {
   "display_name": "Python 2",
   "language": "python",
   "name": "python2"
  },
  "language_info": {
   "codemirror_mode": {
    "name": "ipython",
    "version": 2
   },
   "file_extension": ".py",
   "mimetype": "text/x-python",
   "name": "python",
   "nbconvert_exporter": "python",
   "pygments_lexer": "ipython2",
   "version": "2.7.13"
  }
 },
 "nbformat": 4,
 "nbformat_minor": 1
}
