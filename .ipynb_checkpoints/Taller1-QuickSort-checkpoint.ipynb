{
 "cells": [
  {
   "cell_type": "markdown",
   "metadata": {},
   "source": [
    "# Quick Sort"
   ]
  },
  {
   "cell_type": "code",
   "execution_count": 1,
   "metadata": {
    "collapsed": false
   },
   "outputs": [],
   "source": [
    "import math\n",
    "import numpy as np\n",
    "import pylab as pl\n",
    "import random as rnd\n",
    "import time\n",
    "%matplotlib inline"
   ]
  },
  {
   "cell_type": "code",
   "execution_count": 2,
   "metadata": {
    "collapsed": true
   },
   "outputs": [],
   "source": [
    "def quicksort(L, izq, der):\n",
    "    i = izq\n",
    "    j = der    \n",
    "    pivote = (L[i] + L[j]) / 2\n",
    "    while i < j:\n",
    "        while L[i] < pivote:\n",
    "            i+=1\n",
    "        while L[j] > pivote:\n",
    "            j-=1\n",
    "        if i <= j:\n",
    "            x = L[j]\n",
    "            L[j] = L[i]\n",
    "            L[i] = x\n",
    "            i+=1\n",
    "            j-=1\n",
    "    if izq < j:\n",
    "        L = quicksort(L, izq, j)\n",
    "    if der > i:\n",
    "        L = quicksort(L, i, der)\n",
    "    return L"
   ]
  },
  {
   "cell_type": "code",
   "execution_count": 3,
   "metadata": {
    "collapsed": false
   },
   "outputs": [
    {
     "name": "stdout",
     "output_type": "stream",
     "text": [
      "[4 7 2 8 5 3 9 6 0 1]\n",
      "[0 1 2 3 4 5 6 7 8 9]\n"
     ]
    }
   ],
   "source": [
    "A= np.random.permutation(range(0,10))\n",
    "print A\n",
    "quicksort(A,0,len(A)-1)\n",
    "print A"
   ]
  },
  {
   "cell_type": "markdown",
   "metadata": {
    "collapsed": true
   },
   "source": [
    "# Correctitud"
   ]
  },
  {
   "cell_type": "code",
   "execution_count": 4,
   "metadata": {
    "collapsed": true
   },
   "outputs": [],
   "source": [
    "# Se tiene como invariante que los numeros que etsen antes \n",
    "# del pivote son menores y los que estan despues son mayores\n",
    "\n",
    "def invariante(A, x, izq , der):\n",
    "    L = list(A)\n",
    "    pivote = x\n",
    "    i = izq\n",
    "    j = der\n",
    "    aux = 0\n",
    "    while L[i] <= x and i < der:\n",
    "        i+= 1\n",
    "        aux=aux + 1\n",
    "    while L[j] >= x and j > der:\n",
    "        j-=1\n",
    "        aux= aux + 1\n",
    "        \n",
    "    d= der - izq + 1\n",
    "    return (aux - d) < 2 or (d - aux < 2)\n"
   ]
  },
  {
   "cell_type": "code",
   "execution_count": 5,
   "metadata": {
    "collapsed": true
   },
   "outputs": [],
   "source": [
    "def invariante_quick(L, izq, der):\n",
    "    B = L\n",
    "    try:\n",
    "        i = izq\n",
    "        j = der    \n",
    "        pivote = (L[i] + L[j]) / 2\n",
    "        while i < j:\n",
    "            while L[i] < pivote:\n",
    "                i+=1\n",
    "            while L[j] > pivote:\n",
    "                j-=1\n",
    "            if i <= j:\n",
    "                x = L[j]\n",
    "                L[j] = L[i]\n",
    "                L[i] = x\n",
    "                i+=1\n",
    "                j-=1\n",
    "        if len(L)>=2: #and res:      \n",
    "            assert invariante(L,pivote,izq,der)       \n",
    "        if izq < j:       \n",
    "            L = invariante_quick(L, izq, j)\n",
    "        if der > i:\n",
    "            L = invariante_quick(L, i, der)\n",
    "        return L\n",
    "    except  AssertionError:\n",
    "        print \"Error en invariante!\"\n",
    "        print L"
   ]
  },
  {
   "cell_type": "code",
   "execution_count": 6,
   "metadata": {
    "collapsed": false
   },
   "outputs": [
    {
     "name": "stdout",
     "output_type": "stream",
     "text": [
      "[8 4 3 6 0 5 9 2 7 1]\n",
      "[0 1 2 3 4 5 6 7 8 9]\n"
     ]
    }
   ],
   "source": [
    "A= np.random.permutation(range(0,10))\n",
    "print A\n",
    "invariante_quick(A,0,len(A)-1)\n",
    "print A"
   ]
  },
  {
   "cell_type": "markdown",
   "metadata": {},
   "source": [
    "# Análisis del tiempo de ejecución"
   ]
  },
  {
   "cell_type": "code",
   "execution_count": 7,
   "metadata": {
    "collapsed": true
   },
   "outputs": [],
   "source": [
    "class Counter:\n",
    "    def __init__(self):\n",
    "        self.steps = 0\n",
    "\n",
    "    def reset(self):\n",
    "        self.steps = 0\n",
    "\n",
    "    def count(self):\n",
    "        self.steps += 1\n",
    "\n",
    "    def print_steps(self):\n",
    "        print \"Number of steps =\", self.steps\n",
    "        "
   ]
  },
  {
   "cell_type": "code",
   "execution_count": 8,
   "metadata": {
    "collapsed": false
   },
   "outputs": [],
   "source": [
    "def acct_quicksort(L, izq, der, acct):\n",
    "    i = izq; acct.count()\n",
    "    j = der; acct.count()     \n",
    "    pivote = (L[i] + L[j]) / 2; acct.count()\n",
    "\n",
    "    while i < j:\n",
    "        acct.count()\n",
    "        while L[i] < pivote:\n",
    "            acct.count()\n",
    "            i+=1; acct.count()\n",
    "        while L[j] > pivote:\n",
    "            acct.count()\n",
    "            j-=1;acct.count()\n",
    "        if i <= j:\n",
    "            acct.count()\n",
    "            x = L[j]; acct.count()\n",
    "            L[j] = L[i]; acct.count()\n",
    "            L[i] = x; acct.count()\n",
    "            i+=1; acct.count()\n",
    "            j-=1; acct.count()\n",
    "            \n",
    "    if izq < j:    \n",
    "        acct.count()\n",
    "        L = acct_quicksort(L, izq, j,acct);acct.count()\n",
    "    if der > i:\n",
    "        acct.count()\n",
    "        L = acct_quicksort(L, i, der,acct);acct.count()\n",
    "    return L"
   ]
  },
  {
   "cell_type": "code",
   "execution_count": 9,
   "metadata": {
    "collapsed": false
   },
   "outputs": [
    {
     "name": "stdout",
     "output_type": "stream",
     "text": [
      "Number of steps = 158\n"
     ]
    }
   ],
   "source": [
    "B = np.random.permutation(range(0,10))\n",
    "acct = Counter()\n",
    "acct_quicksort(B,0,len(B)-1, acct) \n",
    "acct.print_steps()"
   ]
  },
  {
   "cell_type": "code",
   "execution_count": 10,
   "metadata": {
    "collapsed": true
   },
   "outputs": [],
   "source": [
    "def T(n):\n",
    "    return n*n"
   ]
  },
  {
   "cell_type": "markdown",
   "metadata": {},
   "source": [
    "# Análisis Experimental"
   ]
  },
  {
   "cell_type": "code",
   "execution_count": 11,
   "metadata": {
    "collapsed": true
   },
   "outputs": [],
   "source": [
    "def exper_analysisS(n):\n",
    "    results = []\n",
    "    acct = Counter()\n",
    "    for i in range(n):\n",
    "        l=0\n",
    "        if i>0 :\n",
    "            l = range(i)\n",
    "            rnd.shuffle(l)\n",
    "            A =list(l)\n",
    "            acct.reset()\n",
    "            acct_quicksort(A,0,len(A)-1, acct)\n",
    "        results.append(acct.steps)\n",
    "    return results"
   ]
  },
  {
   "cell_type": "code",
   "execution_count": 12,
   "metadata": {
    "collapsed": true
   },
   "outputs": [],
   "source": [
    "def exper_analysisT(n):\n",
    "    results = []\n",
    "    for i in range(n):\n",
    "        t = 0\n",
    "        if i > 0 :\n",
    "            l = range(i)\n",
    "            rnd.shuffle(l)\n",
    "            A =list(l)\n",
    "            tic = time.clock()\n",
    "            quicksort(A,0,len(A)-1)\n",
    "            toc = time.clock()\n",
    "            t = (toc-tic)*5000000\n",
    "        results.append(t)\n",
    "    return results"
   ]
  },
  {
   "cell_type": "code",
   "execution_count": 13,
   "metadata": {
    "collapsed": true
   },
   "outputs": [],
   "source": [
    "def exper_analysisR(n):\n",
    "    results = []\n",
    "    acct = Counter()\n",
    "    for i in range(n):\n",
    "        l=0\n",
    "        if i > 1:\n",
    "            l = i * i\n",
    "        results.append(l)\n",
    "    return results"
   ]
  },
  {
   "cell_type": "code",
   "execution_count": 14,
   "metadata": {
    "collapsed": false
   },
   "outputs": [
    {
     "data": {
      "text/plain": [
       "[<matplotlib.lines.Line2D at 0x7a95128>,\n",
       " <matplotlib.lines.Line2D at 0x7881208>,\n",
       " <matplotlib.lines.Line2D at 0x7a95748>]"
      ]
     },
     "execution_count": 14,
     "metadata": {},
     "output_type": "execute_result"
    },
    {
     "data": {
      "image/png": "[encoded data removed]",
      "text/plain": [
       "<matplotlib.figure.Figure at 0x79a10f0>"
      ]
     },
     "metadata": {},
     "output_type": "display_data"
    }
   ],
   "source": [
    "pl.clf()\n",
    "x = np.arange(100)\n",
    "y1 = np.array(exper_analysisS(100))\n",
    "y2= np.array(exper_analysisT(100))\n",
    "y3 = np.array(exper_analysisR(100))\n",
    "pl.plot(x, y1, 'g.', x, y2, 'b.', x, y3, 'r.')"
   ]
  },
  {
   "cell_type": "code",
   "execution_count": null,
   "metadata": {
    "collapsed": true
   },
   "outputs": [],
   "source": []
  }
 ],
 "metadata": {
  "anaconda-cloud": {},
  "kernelspec": {
   "display_name": "Python 2",
   "language": "python",
   "name": "python2"
  },
  "language_info": {
   "codemirror_mode": {
    "name": "ipython",
    "version": 2
   },
   "file_extension": ".py",
   "mimetype": "text/x-python",
   "name": "python",
   "nbconvert_exporter": "python",
   "pygments_lexer": "ipython2",
   "version": "2.7.13"
  }
 },
 "nbformat": 4,
 "nbformat_minor": 1
}
