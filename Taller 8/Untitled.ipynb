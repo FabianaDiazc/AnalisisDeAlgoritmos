{
 "cells": [
  {
   "cell_type": "markdown",
   "metadata": {},
   "source": [
    "# Taller 8"
   ]
  },
  {
   "cell_type": "code",
   "execution_count": 1,
   "metadata": {
    "collapsed": true
   },
   "outputs": [],
   "source": [
    "import sys\n",
    "import numpy as np\n",
    "import pylab as pl\n",
    "import random as rnd\n",
    "import Queue\n",
    "from sympy import Point, Line\n",
    "from matplotlib import pyplot as plt\n",
    "from matplotlib.path import Path\n",
    "from matplotlib.patches import PathPatch\n",
    "from __future__ import print_function\n",
    "from mpl_toolkits.mplot3d import Axes3D"
   ]
  },
  {
   "cell_type": "markdown",
   "metadata": {},
   "source": [
    "# Punto 1"
   ]
  },
  {
   "cell_type": "code",
   "execution_count": 2,
   "metadata": {
    "collapsed": false
   },
   "outputs": [],
   "source": [
    "def ecuation_line(point1, point2):\n",
    "    A = (point1[1] - point2[1])\n",
    "    B = (point2[0] - point1[0])\n",
    "    C = (point1[0]*point2[1] - point2[0]*point1[1])\n",
    "    return A, B, -C\n",
    "\n",
    "def intersection(line1, line2):\n",
    "    D  = line1[0] * line2[1] - line1[1] * line2[0]\n",
    "    Dx = line1[2] * line2[1] - line1[1] * line2[2]\n",
    "    Dy = line1[0] * line2[2] - line1[2] * line2[0]\n",
    "    \n",
    "    if D != 0:\n",
    "        x = Dx / D\n",
    "        y = Dy / D\n",
    "        return x, y\n",
    "    else:\n",
    "        return False\n",
    "\n",
    "def graph(line1, line2):\n",
    "    fig, ax = plt.subplots(figsize=(8, 8))\n",
    "    x = np.linspace(-100, 100)\n",
    "    y1 = (line1[2]/line1[1])-(line1[0]/line1[1])*x\n",
    "    y2 = (line2[2]/line2[1])-(line2[0]/line2[1])*x\n",
    "\n",
    "    plt.plot(x, y1, lw=3, label=r'$Line 1$')\n",
    "    plt.plot(x, y2 , lw=3, label=r'$Line 2$')\n",
    "\n",
    "    plt.xlabel(r'$x$', fontsize=16)\n",
    "    plt.ylabel(r'$y$', fontsize=16)\n",
    "    plt.xlim(-2, 14)\n",
    "    plt.ylim(-2, 14)\n",
    "    plt.legend(fontsize=14)\n",
    "    plt.show()"
   ]
  },
  {
   "cell_type": "code",
   "execution_count": 3,
   "metadata": {
    "collapsed": false
   },
   "outputs": [
    {
     "name": "stdout",
     "output_type": "stream",
     "text": [
      "La intersección es : (1, 2)\n"
     ]
    },
    {
     "data": {
      "image/png": "[encoded data removed]",
      "text/plain": [
       "<matplotlib.figure.Figure at 0x86256d8>"
      ]
     },
     "metadata": {},
     "output_type": "display_data"
    }
   ],
   "source": [
    "X1 = ecuation_line([0,1], [2,3])\n",
    "X2 = ecuation_line([1,3], [2,-5])\n",
    "Mitad = intersection(X1, X2)\n",
    "\n",
    "if Mitad:\n",
    "    print (\"La intersección es :\", Mitad)\n",
    "    graph(X1, X2)\n",
    "else:\n",
    "    print (\"No hay\")"
   ]
  },
  {
   "cell_type": "markdown",
   "metadata": {},
   "source": [
    "# Punto 2"
   ]
  },
  {
   "cell_type": "code",
   "execution_count": 4,
   "metadata": {
    "collapsed": true
   },
   "outputs": [],
   "source": [
    "def contained_point(line, point):\n",
    "    if point[1] == (line[2]/line[1])-(line[0]/line[1])*(point[0]):\n",
    "        return True\n",
    "    else:\n",
    "        return False    "
   ]
  },
  {
   "cell_type": "code",
   "execution_count": 5,
   "metadata": {
    "collapsed": false
   },
   "outputs": [
    {
     "name": "stdout",
     "output_type": "stream",
     "text": [
      "True\n",
      "False\n"
     ]
    }
   ],
   "source": [
    "line = ecuation_line([0,0], [2,-1])\n",
    "X1 = [2, 0]\n",
    "X2 = [0, 1]\n",
    "\n",
    "print (contained_point(line, X1))\n",
    "print (contained_point(line, X2))"
   ]
  },
  {
   "cell_type": "markdown",
   "metadata": {},
   "source": [
    "# Punto 3"
   ]
  },
  {
   "cell_type": "code",
   "execution_count": 6,
   "metadata": {
    "collapsed": true
   },
   "outputs": [],
   "source": [
    "def distance_point_line(line, point):\n",
    "    return line.distance(point)"
   ]
  },
  {
   "cell_type": "code",
   "execution_count": 7,
   "metadata": {
    "collapsed": false
   },
   "outputs": [
    {
     "name": "stdout",
     "output_type": "stream",
     "text": [
      "La distancia es: 1\n"
     ]
    }
   ],
   "source": [
    "p1 = Point(0, 3)\n",
    "p2 = Point(0, 5)\n",
    "p0 = Point (1, 1)\n",
    "D = distance_point_line(Line(p1, p2), p0)\n",
    "print ('La distancia es:', D)"
   ]
  },
  {
   "cell_type": "markdown",
   "metadata": {},
   "source": [
    "# Punto 4"
   ]
  },
  {
   "cell_type": "code",
   "execution_count": 8,
   "metadata": {
    "collapsed": true
   },
   "outputs": [],
   "source": [
    "def orthogonal_line(line, point):\n",
    "    ort = line.perpendicular_line(point)\n",
    "    return ort.equation()"
   ]
  },
  {
   "cell_type": "code",
   "execution_count": 9,
   "metadata": {
    "collapsed": false
   },
   "outputs": [
    {
     "name": "stdout",
     "output_type": "stream",
     "text": [
      "La recta es: y - 1\n"
     ]
    }
   ],
   "source": [
    "O = orthogonal_line(Line(p1, p2), p0)\n",
    "print (\"La recta es:\", O)"
   ]
  },
  {
   "cell_type": "markdown",
   "metadata": {},
   "source": [
    "# Punto 5"
   ]
  },
  {
   "cell_type": "code",
   "execution_count": 10,
   "metadata": {
    "collapsed": true
   },
   "outputs": [],
   "source": [
    "def parallel_line(p1, p2, distance):\n",
    "    line = Line(p1, p2)\n",
    "    p = p1.translate(distance)\n",
    "    par = line.parallel_line(p)\n",
    "    return par.equation()"
   ]
  },
  {
   "cell_type": "code",
   "execution_count": 11,
   "metadata": {
    "collapsed": false
   },
   "outputs": [
    {
     "name": "stdout",
     "output_type": "stream",
     "text": [
      "La recta es: x - 4\n"
     ]
    }
   ],
   "source": [
    "D = 4\n",
    "P = parallel_line(p1, p2, D)\n",
    "print (\"La recta es:\", P)"
   ]
  }
 ],
 "metadata": {
  "kernelspec": {
   "display_name": "Python 2",
   "language": "python",
   "name": "python2"
  },
  "language_info": {
   "codemirror_mode": {
    "name": "ipython",
    "version": 2
   },
   "file_extension": ".py",
   "mimetype": "text/x-python",
   "name": "python",
   "nbconvert_exporter": "python",
   "pygments_lexer": "ipython2",
   "version": "2.7.13"
  }
 },
 "nbformat": 4,
 "nbformat_minor": 2
}
