{
 "cells": [
  {
   "cell_type": "markdown",
   "metadata": {},
   "source": [
    "# Grafo Pac"
   ]
  },
  {
   "cell_type": "code",
   "execution_count": 1,
   "metadata": {
    "collapsed": true
   },
   "outputs": [],
   "source": [
    "graph ={'a':  set(['c', 'd', 'f']),'b':  set(['g', 'i', 'j']),'c':  set(['a', 'd', 'k']),'d':  set(['a', 'c', 'e', 'e']),'e':  set(['d', 'f', 'l']), \n",
    "        'f':  set(['a', 'e', 'g']),'g':  set(['b', 'f', 'h']),'h':  set(['g', 'i', 'm']),'i':  set(['a', 'h', 'j', 'n']),'j':  set(['b', 'i', 'n']),\n",
    "        'k':  set(['c', 'd', 'q']),'l':  set(['e', 'o']),'m':  set(['h', 'p']),'n':  set(['i', 'j', 't']),'o':  set(['l', 'p', 'r']),\n",
    "        'p':  set(['m', 'o', 's']),'q':  set(['k', 'r', 'w']),'r':  set(['o', 'q', 'u']),'s':  set(['p', 't', 'v']),\n",
    "        't':  set(['n', 's', 'z']),'u':  set(['r', 'v', 'x']),'v':  set(['s', 'u', 'y']),'w':  set(['q', 'x', 'aa', 'ah']),\n",
    "        'x':  set(['u', 'w', 'ac']),'y':  set(['v', 'z', 'ad']),'z':  set(['y', 'y', 'ag', 'ai']),'aa': set(['w', 'ab', 'ah']),\n",
    "        'ab': set(['aa', 'ac', 'aj']),'ac': set(['x', 'ab', 'ad']),'ad': set(['y', 'ac', 'af']), 'af': set(['ad', 'ag', 'ak']),\n",
    "        'ag': set(['z', 'af', 'ai']),'ah': set(['w', 'aa', 'aj']),'ai': set(['z', 'ag', 'ak']),'aj': set(['ab', 'ah', 'ak']),\n",
    "        'ak': set(['af', 'ai', 'aj'])\n",
    "       }"
   ]
  },
  {
   "cell_type": "code",
   "execution_count": 2,
   "metadata": {
    "collapsed": true
   },
   "outputs": [],
   "source": [
    "import sys\n",
    "import numpy as np\n",
    "import pylab as pl\n",
    "import random as rnd\n",
    "import Queue\n",
    "from __future__ import print_function"
   ]
  },
  {
   "cell_type": "markdown",
   "metadata": {},
   "source": [
    "# dfc"
   ]
  },
  {
   "cell_type": "raw",
   "metadata": {
    "collapsed": true
   },
   "source": [
    "Tomado de http://eddmann.com/posts/depth-first-search-and-breadth-first-search-in-python/"
   ]
  },
  {
   "cell_type": "code",
   "execution_count": 3,
   "metadata": {
    "collapsed": true
   },
   "outputs": [],
   "source": [
    "def dfs(graph, start):\n",
    "    visited, stack = set(), [start]\n",
    "    while stack:\n",
    "        vertex = stack.pop()\n",
    "        if vertex not in visited:\n",
    "            visited.add(vertex)\n",
    "            stack.extend(graph[vertex] - visited)\n",
    "    return visited"
   ]
  },
  {
   "cell_type": "code",
   "execution_count": 4,
   "metadata": {
    "collapsed": false
   },
   "outputs": [
    {
     "data": {
      "text/plain": [
       "{'a',\n",
       " 'aa',\n",
       " 'ab',\n",
       " 'ac',\n",
       " 'ad',\n",
       " 'af',\n",
       " 'ag',\n",
       " 'ah',\n",
       " 'ai',\n",
       " 'aj',\n",
       " 'ak',\n",
       " 'b',\n",
       " 'c',\n",
       " 'd',\n",
       " 'e',\n",
       " 'f',\n",
       " 'g',\n",
       " 'h',\n",
       " 'i',\n",
       " 'j',\n",
       " 'k',\n",
       " 'l',\n",
       " 'm',\n",
       " 'n',\n",
       " 'o',\n",
       " 'p',\n",
       " 'q',\n",
       " 'r',\n",
       " 's',\n",
       " 't',\n",
       " 'u',\n",
       " 'v',\n",
       " 'w',\n",
       " 'x',\n",
       " 'y',\n",
       " 'z'}"
      ]
     },
     "execution_count": 4,
     "metadata": {},
     "output_type": "execute_result"
    }
   ],
   "source": [
    "dfs(graph, 'a')"
   ]
  },
  {
   "cell_type": "markdown",
   "metadata": {},
   "source": [
    "# Ciclos en grafos"
   ]
  },
  {
   "cell_type": "code",
   "execution_count": 5,
   "metadata": {
    "collapsed": true
   },
   "outputs": [],
   "source": [
    "def esBipartito(graph):\n",
    "    n = len(graph)\n",
    "    color=[None]\n",
    "    visited = [None]\n",
    "    for k in range(n):\n",
    "        visited.append(False)\n",
    "        color.append(0)\n",
    "    color[0]=1\n",
    "    esBipartito = True\n",
    "    for i in range(n):\n",
    "        for j in graph[i]:\n",
    "            if color[j]==0:\n",
    "                if color[i]==1:\n",
    "                    color[j]=2\n",
    "                else:\n",
    "                    color[j]=1\n",
    "            else:\n",
    "                if color[j]==color[i]:\n",
    "                    esBipartito=False          \n",
    "    return esBipartito"
   ]
  },
  {
   "cell_type": "code",
   "execution_count": 6,
   "metadata": {
    "collapsed": true
   },
   "outputs": [],
   "source": [
    "graphZ = { 0 : [4,5], 1 : [2,1,5],2 : [4,1,5],\n",
    "          3 : [2,0],4 : [1,5], 5 : [4,2,1,0]}"
   ]
  },
  {
   "cell_type": "code",
   "execution_count": 7,
   "metadata": {
    "collapsed": false
   },
   "outputs": [
    {
     "name": "stdout",
     "output_type": "stream",
     "text": [
      "No es bipartito\n"
     ]
    }
   ],
   "source": [
    "A=esBipartito(graphZ)\n",
    "if A == True :\n",
    "    print (\"Es bipartito\")\n",
    "else:\n",
    "    print (\"No es bipartito\")\n"
   ]
  }
 ],
 "metadata": {
  "kernelspec": {
   "display_name": "Python 2",
   "language": "python",
   "name": "python2"
  },
  "language_info": {
   "codemirror_mode": {
    "name": "ipython",
    "version": 2
   },
   "file_extension": ".py",
   "mimetype": "text/x-python",
   "name": "python",
   "nbconvert_exporter": "python",
   "pygments_lexer": "ipython2",
   "version": "2.7.13"
  }
 },
 "nbformat": 4,
 "nbformat_minor": 2
}
