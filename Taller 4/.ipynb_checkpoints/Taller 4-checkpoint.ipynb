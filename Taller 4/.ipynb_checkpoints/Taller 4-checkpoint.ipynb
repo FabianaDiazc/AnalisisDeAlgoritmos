{
 "cells": [
  {
   "cell_type": "markdown",
   "metadata": {},
   "source": [
    "# SCL"
   ]
  },
  {
   "cell_type": "code",
   "execution_count": 10,
   "metadata": {
    "collapsed": true
   },
   "outputs": [],
   "source": [
    "import sys\n",
    "import numpy as np\n",
    "import pylab as pl\n",
    "import random as rnd"
   ]
  },
  {
   "cell_type": "code",
   "execution_count": 11,
   "metadata": {
    "collapsed": true
   },
   "outputs": [],
   "source": [
    "def scl(X, Y, m, n):\n",
    "    C = [[0 for x in xrange(n+1)] for x in xrange(m+1)]\n",
    "    for i in xrange(m+1):\n",
    "        for j in xrange(n+1):\n",
    "            if i == 0 or j == 0:\n",
    "                C[i][j] = 0\n",
    "            elif X[i-1] == Y[j-1]:\n",
    "                C[i][j] = C[i-1][j-1] + 1\n",
    "            else:\n",
    "                C[i][j] = max(C[i-1][j], C[i][j-1])\n",
    "    aux = C[m][n]\n",
    "    scl = [\"\"] * (aux+1)\n",
    "    scl[aux] = \"\\0\"\n",
    "    i = m\n",
    "    j = n\n",
    "    while i > 0 and j > 0:\n",
    "        if X[i-1] == Y[j-1]:\n",
    "            scl[aux-1] = X[i-1]\n",
    "            i= i - 1\n",
    "            j= j - 1\n",
    "            aux= aux - 1\n",
    "        elif C[i-1][j] > C[i][j-1]:\n",
    "            i-=1\n",
    "        else:\n",
    "            j-=1\n",
    "    print \"La subsecuencia comun mas larga de \" + X + \" y \" + Y + \" is \" + \"\".join(scl) \n",
    " "
   ]
  },
  {
   "cell_type": "code",
   "execution_count": 12,
   "metadata": {
    "collapsed": false
   },
   "outputs": [
    {
     "name": "stdout",
     "output_type": "stream",
     "text": [
      "La subsecuencia comun mas larga de HOLACOMOESTAS y MUYBIENYTU is MET\u0000\n"
     ]
    }
   ],
   "source": [
    "X = \"HOLACOMOESTAS\"\n",
    "Y = \"MUYBIENYTU\"\n",
    "m = len(X)\n",
    "n = len(Y)\n",
    "scl(X, Y, m, n)"
   ]
  },
  {
   "cell_type": "markdown",
   "metadata": {},
   "source": [
    "# PD (top-down)"
   ]
  },
  {
   "cell_type": "code",
   "execution_count": 13,
   "metadata": {
    "collapsed": true
   },
   "outputs": [],
   "source": [
    "def cut_rodR(p, n):\n",
    "    if n==0:\n",
    "        return 0\n",
    "    q = float('-inf')\n",
    "    for i in range(n):\n",
    "        #print i\n",
    "        q = max(q, p[i] + cut_rodR(p, n-1-i))\n",
    "    return q"
   ]
  },
  {
   "cell_type": "code",
   "execution_count": 14,
   "metadata": {
    "collapsed": true
   },
   "outputs": [],
   "source": [
    "p = [1,5,8,9,10,17,17,20,24,30,31,35,38,39,40,47,47,50,54]"
   ]
  },
  {
   "cell_type": "code",
   "execution_count": 15,
   "metadata": {
    "collapsed": false
   },
   "outputs": [
    {
     "name": "stdout",
     "output_type": "stream",
     "text": [
      "22\n"
     ]
    }
   ],
   "source": [
    "sol = cut_rodR(p,8)\n",
    "print (sol)"
   ]
  },
  {
   "cell_type": "markdown",
   "metadata": {},
   "source": [
    "# Edit Distance"
   ]
  },
  {
   "cell_type": "code",
   "execution_count": 16,
   "metadata": {
    "collapsed": false
   },
   "outputs": [],
   "source": [
    "def EDIT(x, y, i, j):\n",
    "    m = len(x) \n",
    "    n = len(y)\n",
    "    if i == m:\n",
    "        return (n - j)\n",
    "        cost(insert)\n",
    "        if j == n:\n",
    "            return min((m - i),cost(delete) ,cost(kill))\n",
    "            o1= float('inf')\n",
    "            o2= float('inf')\n",
    "            o3= float('inf')\n",
    "            o4= float('inf')\n",
    "            o5= float('inf')\n",
    "        if x[i] == y[j]:\n",
    "            o1 = cost(copy) + EDIT(x, y, i + 1, j+ 1)\n",
    "            o2 = cost(replace) + EDIT(x, y, i + 1, j + 1)\n",
    "            o3 = cost(delete) + EDIT(x, y, i + 1, j)\n",
    "            o4 = cost(insert) + EDIT(x, y, i, j + 1)\n",
    "        if i < m - 1 and j < n - 1:\n",
    "              if x[i] == y[j + 1] and x[i + 1] == y[j]:\n",
    "                     o5 = cost(twiddle) + EDIT(x, y, i + 2, j+ 2)\n",
    "    return min(i in [5]),o[0]"
   ]
  },
  {
   "cell_type": "code",
   "execution_count": 17,
   "metadata": {
    "collapsed": false
   },
   "outputs": [
    {
     "name": "stdout",
     "output_type": "stream",
     "text": [
      "0\n"
     ]
    }
   ],
   "source": [
    "pri = EDIT('tele','telefono',4,8)\n",
    "print (pri)"
   ]
  },
  {
   "cell_type": "markdown",
   "metadata": {},
   "source": [
    "# Punto 4"
   ]
  },
  {
   "cell_type": "code",
   "execution_count": 18,
   "metadata": {
    "collapsed": true
   },
   "outputs": [],
   "source": [
    "def costoMenor(s, f, n, mat, c):\n",
    "    cont = float('inf')\n",
    "    for i in range (s + 1, n):\n",
    "        print \"\\n\"\n",
    "        cont = min(cont, mat[s,i]+c[i,f])\n",
    "    return cont\n",
    "\n",
    "def start(n, mat):\n",
    "    c = np.zeros((n, n))\n",
    "    for i in range(1, n):\n",
    "        for j in range(1, n):\n",
    "            print i, n\n",
    "            c[i,j] = costoMenor(i,j,n,mat,c)\n",
    "    return c"
   ]
  }
 ],
 "metadata": {
  "kernelspec": {
   "display_name": "Python 2",
   "language": "python",
   "name": "python2"
  },
  "language_info": {
   "codemirror_mode": {
    "name": "ipython",
    "version": 2
   },
   "file_extension": ".py",
   "mimetype": "text/x-python",
   "name": "python",
   "nbconvert_exporter": "python",
   "pygments_lexer": "ipython2",
   "version": "2.7.13"
  }
 },
 "nbformat": 4,
 "nbformat_minor": 2
}
